{
  "nbformat": 4,
  "nbformat_minor": 0,
  "metadata": {
    "colab": {
      "provenance": [],
      "authorship_tag": "ABX9TyONqCw8TyofjwO1Fce/546y",
      "include_colab_link": true
    },
    "kernelspec": {
      "name": "python3",
      "display_name": "Python 3"
    },
    "language_info": {
      "name": "python"
    }
  },
  "cells": [
    {
      "cell_type": "markdown",
      "metadata": {
        "id": "view-in-github",
        "colab_type": "text"
      },
      "source": [
        "<a href=\"https://colab.research.google.com/github/Habibrehman1996/Habibrehman1996/blob/main/app.ipynb\" target=\"_parent\"><img src=\"https://colab.research.google.com/assets/colab-badge.svg\" alt=\"Open In Colab\"/></a>"
      ]
    },
    {
      "cell_type": "code",
      "source": [
        "import streamlit as st\n",
        "\n",
        "# Title of the application\n",
        "st.title(\"School Marksheet\")\n",
        "\n",
        "# Dropdown for selecting section and class\n",
        "section = st.selectbox(\"Select Section\", [\"Girls\", \"Boys\"])\n",
        "class_level = st.selectbox(\"Select Class\", [\"5\", \"6\", \"7\", \"8\"])\n",
        "\n",
        "# Subjects and Marks Input\n",
        "subjects = [\"English\", \"Urdu\", \"Islamiat\", \"Science\", \"Maths\"]\n",
        "marks = {}\n",
        "\n",
        "st.write(\"### Enter Marks for Each Subject\")\n",
        "for subject in subjects:\n",
        "    marks[subject] = st.number_input(f\"{subject} Marks\", min_value=0, max_value=100, value=0)\n",
        "\n",
        "# Calculate Total Marks, Obtained Marks, and Percentage\n",
        "if st.button(\"Calculate Percentage\"):\n",
        "    total_marks = 500  # Assuming each subject has a maximum of 100 marks\n",
        "    obtained_marks = sum(marks.values())\n",
        "    percentage = (obtained_marks / total_marks) * 100\n",
        "\n",
        "    # Display Results\n",
        "    st.write(\"### Results\")\n",
        "    st.write(f\"Obtained Marks: {obtained_marks}/{total_marks}\")\n",
        "    st.write(f\"Percentage: {percentage:.2f}%\")\n"
      ],
      "metadata": {
        "id": "0RIUm0INlJF1"
      },
      "execution_count": null,
      "outputs": []
    }
  ]
}